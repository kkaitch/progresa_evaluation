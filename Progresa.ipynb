{
 "cells": [
  {
   "cell_type": "markdown",
   "metadata": {},
   "source": [
    "# Progresa Evaluation"
   ]
  },
  {
   "cell_type": "markdown",
   "metadata": {},
   "source": [
    "## Introduction to the project\n",
    "\n",
    "For this project, I used data from the [Progresa program](http://en.wikipedia.org/wiki/Oportunidades), a government social assistance program in Mexico. This program, as well as the details of its impact, are described in the paper \"[School subsidies for the poor: evaluating the Mexican Progresa poverty program](http://www.sciencedirect.com/science/article/pii/S0304387803001858)\", by Paul Shultz.\n",
    "\n",
    "The goal of this project is to implement some of the basic econometric techniques to measure the impact of Progresa on secondary school enrollment rates.\n",
    "\n",
    "1. Descriptive analysis: Check the dataset's characteristics and baseline information.\n",
    "2. Simple difference: Estimate the causal impact by simple difference, by tabular analysis and regression.\n",
    "3. Difference-in-difference: Re-estimate the causal effect by Difference-in-Difference, the method which is more suitable for this dataset.\n",
    "\n",
    "### The timeline of the program:\n",
    "\n",
    " * Baseline survey conducted in 1997\n",
    " * Intervention begins in 1998, \"Wave 1\" of surveys conducted in 1998\n",
    " * \"Wave 2\" of surveys conducted in 1999\n",
    " * Evaluation ends in 2000, at which point the control villages were treated. \n",
    " \n",
    "The data are actual data collected to evaluate the impact of the Progresa program.  In this file, each row corresponds to an observation taken for a given child for a given year. There are two years of data (1997 and 1998), and just under 40,000 children who are surveyed in each year. For each child-year observation, the following variables are collected:\n",
    "\n",
    "| Variable name | Description|\n",
    "|------|------|\n",
    "|year\t  |year in which data is collected\n",
    "|sex\t  |male = 1|\n",
    "|indig\t  |indigenous = 1|\n",
    "|dist_sec |nearest distance to a secondary school|\n",
    "|sc\t      |enrolled in school in year of survey|\n",
    "|grc      |grade enrolled|\n",
    "|fam_n    |family size|\n",
    "|min_dist |\tmin distance to an urban center|\n",
    "|dist_cap |\tmin distance to the capital|\n",
    "|poor     |\tpoor = 1|\n",
    "|progresa |treatment =1|\n",
    "|hohedu\t  |years of schooling of head of household|\n",
    "|hohwag\t  |monthly wages of head of household|\n",
    "|welfare_index|\twelfare index used to classify poor|\n",
    "|hohsex\t|gender of head of household (male=1)|\n",
    "|hohage\t|age of head of household|\n",
    "|age\t|years old|\n",
    "|folnum\t|individual id|\n",
    "|village|\tvillage id|\n",
    "|sc97\t|schooling in 1997|\n",
    "|grc97  |grade enrolled in 1997"
   ]
  },
  {
   "cell_type": "markdown",
   "metadata": {},
   "source": [
    "---\n",
    "\n",
    "## Part 1: Descriptive Analysis\n",
    "\n",
    "### Data exploration\n",
    "\n",
    "I check some statistics (mean, median and standard deviation) for all of the demographic variables in the dataset (i.e., everything except year, folnum, village)."
   ]
  },
  {
   "cell_type": "code",
   "execution_count": 1,
   "metadata": {},
   "outputs": [],
   "source": [
    "# Import libraries\n",
    "import numpy as np\n",
    "import pandas as pd\n",
    "from scipy.stats import ttest_ind\n",
    "import matplotlib.pyplot as plt\n",
    "import seaborn as sns\n",
    "import statsmodels.api as sm\n",
    "import statsmodels.formula.api as smf"
   ]
  },
  {
   "cell_type": "code",
   "execution_count": 2,
   "metadata": {
    "jupyter": {
     "outputs_hidden": true
    }
   },
   "outputs": [
    {
     "data": {
      "text/html": [
       "<div>\n",
       "<style scoped>\n",
       "    .dataframe tbody tr th:only-of-type {\n",
       "        vertical-align: middle;\n",
       "    }\n",
       "\n",
       "    .dataframe tbody tr th {\n",
       "        vertical-align: top;\n",
       "    }\n",
       "\n",
       "    .dataframe thead th {\n",
       "        text-align: right;\n",
       "    }\n",
       "</style>\n",
       "<table border=\"1\" class=\"dataframe\">\n",
       "  <thead>\n",
       "    <tr style=\"text-align: right;\">\n",
       "      <th></th>\n",
       "      <th>mean</th>\n",
       "      <th>median</th>\n",
       "      <th>std</th>\n",
       "    </tr>\n",
       "  </thead>\n",
       "  <tbody>\n",
       "    <tr>\n",
       "      <th>age</th>\n",
       "      <td>11.366460</td>\n",
       "      <td>11.000000</td>\n",
       "      <td>3.167744</td>\n",
       "    </tr>\n",
       "    <tr>\n",
       "      <th>dist_cap</th>\n",
       "      <td>147.674452</td>\n",
       "      <td>132.001494</td>\n",
       "      <td>76.063134</td>\n",
       "    </tr>\n",
       "    <tr>\n",
       "      <th>dist_sec</th>\n",
       "      <td>2.418910</td>\n",
       "      <td>2.279000</td>\n",
       "      <td>2.234109</td>\n",
       "    </tr>\n",
       "    <tr>\n",
       "      <th>fam_n</th>\n",
       "      <td>7.215715</td>\n",
       "      <td>7.000000</td>\n",
       "      <td>2.352900</td>\n",
       "    </tr>\n",
       "    <tr>\n",
       "      <th>grc</th>\n",
       "      <td>3.963537</td>\n",
       "      <td>4.000000</td>\n",
       "      <td>2.499063</td>\n",
       "    </tr>\n",
       "    <tr>\n",
       "      <th>grc97</th>\n",
       "      <td>3.705372</td>\n",
       "      <td>4.000000</td>\n",
       "      <td>2.572387</td>\n",
       "    </tr>\n",
       "    <tr>\n",
       "      <th>hohage</th>\n",
       "      <td>44.436717</td>\n",
       "      <td>43.000000</td>\n",
       "      <td>11.620372</td>\n",
       "    </tr>\n",
       "    <tr>\n",
       "      <th>hohedu</th>\n",
       "      <td>2.768104</td>\n",
       "      <td>2.000000</td>\n",
       "      <td>2.656106</td>\n",
       "    </tr>\n",
       "    <tr>\n",
       "      <th>hohsex</th>\n",
       "      <td>0.925185</td>\n",
       "      <td>1.000000</td>\n",
       "      <td>0.263095</td>\n",
       "    </tr>\n",
       "    <tr>\n",
       "      <th>hohwag</th>\n",
       "      <td>586.985312</td>\n",
       "      <td>500.000000</td>\n",
       "      <td>788.133664</td>\n",
       "    </tr>\n",
       "    <tr>\n",
       "      <th>indig</th>\n",
       "      <td>0.298324</td>\n",
       "      <td>0.000000</td>\n",
       "      <td>0.457525</td>\n",
       "    </tr>\n",
       "    <tr>\n",
       "      <th>min_dist</th>\n",
       "      <td>103.447520</td>\n",
       "      <td>111.228612</td>\n",
       "      <td>42.089441</td>\n",
       "    </tr>\n",
       "    <tr>\n",
       "      <th>sc</th>\n",
       "      <td>0.819818</td>\n",
       "      <td>1.000000</td>\n",
       "      <td>0.384342</td>\n",
       "    </tr>\n",
       "    <tr>\n",
       "      <th>sc97</th>\n",
       "      <td>0.813922</td>\n",
       "      <td>1.000000</td>\n",
       "      <td>0.389172</td>\n",
       "    </tr>\n",
       "    <tr>\n",
       "      <th>sex</th>\n",
       "      <td>0.512211</td>\n",
       "      <td>1.000000</td>\n",
       "      <td>0.499854</td>\n",
       "    </tr>\n",
       "    <tr>\n",
       "      <th>welfare_index</th>\n",
       "      <td>690.346564</td>\n",
       "      <td>685.000000</td>\n",
       "      <td>139.491130</td>\n",
       "    </tr>\n",
       "  </tbody>\n",
       "</table>\n",
       "</div>"
      ],
      "text/plain": [
       "                     mean      median         std\n",
       "age             11.366460   11.000000    3.167744\n",
       "dist_cap       147.674452  132.001494   76.063134\n",
       "dist_sec         2.418910    2.279000    2.234109\n",
       "fam_n            7.215715    7.000000    2.352900\n",
       "grc              3.963537    4.000000    2.499063\n",
       "grc97            3.705372    4.000000    2.572387\n",
       "hohage          44.436717   43.000000   11.620372\n",
       "hohedu           2.768104    2.000000    2.656106\n",
       "hohsex           0.925185    1.000000    0.263095\n",
       "hohwag         586.985312  500.000000  788.133664\n",
       "indig            0.298324    0.000000    0.457525\n",
       "min_dist       103.447520  111.228612   42.089441\n",
       "sc               0.819818    1.000000    0.384342\n",
       "sc97             0.813922    1.000000    0.389172\n",
       "sex              0.512211    1.000000    0.499854\n",
       "welfare_index  690.346564  685.000000  139.491130"
      ]
     },
     "execution_count": 2,
     "metadata": {},
     "output_type": "execute_result"
    }
   ],
   "source": [
    "# Read progresa data\n",
    "df = pd.read_csv('progresa_sample.csv')\n",
    "\n",
    "# List of demographic variables (excluding 'year', 'folnum', 'village')\n",
    "demographic_variables = df.columns.difference(['year', 'folnum', 'village'])\n",
    "\n",
    "# Calculate summary statistics\n",
    "summary_statistics = df[demographic_variables].describe().transpose()[['mean', '50%', 'std']]\n",
    "# Rename '50%' column to 'median'\n",
    "summary_statistics.rename(columns={'50%': 'median'}, inplace=True)\n",
    "\n",
    "# Sort the table alphabetically by variable name\n",
    "summary_statistics.sort_index(inplace=True)\n",
    "\n",
    "# Display the summary statistics table\n",
    "summary_statistics"
   ]
  },
  {
   "cell_type": "markdown",
   "metadata": {},
   "source": [
    "### Differences at baseline?\n",
    "\n",
    "Next, I check the baseline (1997) demographic characteristics **for the poor**  different in treatment and control villages. I use a T-Test to determine whether there is a statistically significant difference in the average values of each of the variables in the dataset."
   ]
  },
  {
   "cell_type": "code",
   "execution_count": 3,
   "metadata": {},
   "outputs": [],
   "source": [
    "# Filter for 1997 and poor households\n",
    "df_base_poor = df[(df.year == 97) & (df.poor == 'pobre')]\n",
    "\n",
    "# Distinguish between treatment and control groups\n",
    "base_treatment = df_base_poor[df_base_poor.progresa == 'basal']\n",
    "base_control = df_base_poor[df_base_poor.progresa == '0']\n",
    "\n",
    "# List of variables to test, excluding identifiers and the 'progresa' column\n",
    "variables = ['sex', 'indig', 'dist_sec', 'sc', 'grc', 'fam_n', 'min_dist', 'dist_cap', 'hohedu', 'hohwag', 'welfare_index', 'hohsex', 'hohage', 'age']"
   ]
  },
  {
   "cell_type": "code",
   "execution_count": 4,
   "metadata": {
    "jupyter": {
     "outputs_hidden": true
    },
    "scrolled": true
   },
   "outputs": [
    {
     "data": {
      "text/html": [
       "<div>\n",
       "<style scoped>\n",
       "    .dataframe tbody tr th:only-of-type {\n",
       "        vertical-align: middle;\n",
       "    }\n",
       "\n",
       "    .dataframe tbody tr th {\n",
       "        vertical-align: top;\n",
       "    }\n",
       "\n",
       "    .dataframe thead th {\n",
       "        text-align: right;\n",
       "    }\n",
       "</style>\n",
       "<table border=\"1\" class=\"dataframe\">\n",
       "  <thead>\n",
       "    <tr style=\"text-align: right;\">\n",
       "      <th></th>\n",
       "      <th>Variable name</th>\n",
       "      <th>Average value (Treatment villages)</th>\n",
       "      <th>Average value (Control villages)</th>\n",
       "      <th>Difference (Treat - Control)</th>\n",
       "      <th>p-value</th>\n",
       "    </tr>\n",
       "  </thead>\n",
       "  <tbody>\n",
       "    <tr>\n",
       "      <th>13</th>\n",
       "      <td>age</td>\n",
       "      <td>10.716991</td>\n",
       "      <td>10.742023</td>\n",
       "      <td>-0.025032</td>\n",
       "      <td>0.478363</td>\n",
       "    </tr>\n",
       "    <tr>\n",
       "      <th>7</th>\n",
       "      <td>dist_cap</td>\n",
       "      <td>150.829074</td>\n",
       "      <td>153.769730</td>\n",
       "      <td>-2.940656</td>\n",
       "      <td>0.001146</td>\n",
       "    </tr>\n",
       "    <tr>\n",
       "      <th>2</th>\n",
       "      <td>dist_sec</td>\n",
       "      <td>2.453122</td>\n",
       "      <td>2.507662</td>\n",
       "      <td>-0.054540</td>\n",
       "      <td>0.042663</td>\n",
       "    </tr>\n",
       "    <tr>\n",
       "      <th>5</th>\n",
       "      <td>fam_n</td>\n",
       "      <td>7.281327</td>\n",
       "      <td>7.302469</td>\n",
       "      <td>-0.021142</td>\n",
       "      <td>0.428967</td>\n",
       "    </tr>\n",
       "    <tr>\n",
       "      <th>4</th>\n",
       "      <td>grc</td>\n",
       "      <td>3.531599</td>\n",
       "      <td>3.543050</td>\n",
       "      <td>-0.011450</td>\n",
       "      <td>0.689523</td>\n",
       "    </tr>\n",
       "    <tr>\n",
       "      <th>12</th>\n",
       "      <td>hohage</td>\n",
       "      <td>43.648828</td>\n",
       "      <td>44.276918</td>\n",
       "      <td>-0.628090</td>\n",
       "      <td>0.000002</td>\n",
       "    </tr>\n",
       "    <tr>\n",
       "      <th>8</th>\n",
       "      <td>hohedu</td>\n",
       "      <td>2.663139</td>\n",
       "      <td>2.590348</td>\n",
       "      <td>0.072791</td>\n",
       "      <td>0.010382</td>\n",
       "    </tr>\n",
       "    <tr>\n",
       "      <th>11</th>\n",
       "      <td>hohsex</td>\n",
       "      <td>0.924656</td>\n",
       "      <td>0.922947</td>\n",
       "      <td>0.001709</td>\n",
       "      <td>0.572125</td>\n",
       "    </tr>\n",
       "    <tr>\n",
       "      <th>9</th>\n",
       "      <td>hohwag</td>\n",
       "      <td>544.339544</td>\n",
       "      <td>573.163558</td>\n",
       "      <td>-28.824015</td>\n",
       "      <td>0.000329</td>\n",
       "    </tr>\n",
       "    <tr>\n",
       "      <th>1</th>\n",
       "      <td>indig</td>\n",
       "      <td>0.325986</td>\n",
       "      <td>0.332207</td>\n",
       "      <td>-0.006222</td>\n",
       "      <td>0.245902</td>\n",
       "    </tr>\n",
       "    <tr>\n",
       "      <th>6</th>\n",
       "      <td>min_dist</td>\n",
       "      <td>107.152915</td>\n",
       "      <td>103.237854</td>\n",
       "      <td>3.915060</td>\n",
       "      <td>0.000000</td>\n",
       "    </tr>\n",
       "    <tr>\n",
       "      <th>3</th>\n",
       "      <td>sc</td>\n",
       "      <td>0.822697</td>\n",
       "      <td>0.815186</td>\n",
       "      <td>0.007511</td>\n",
       "      <td>0.096461</td>\n",
       "    </tr>\n",
       "    <tr>\n",
       "      <th>0</th>\n",
       "      <td>sex</td>\n",
       "      <td>0.519317</td>\n",
       "      <td>0.505052</td>\n",
       "      <td>0.014265</td>\n",
       "      <td>0.012207</td>\n",
       "    </tr>\n",
       "    <tr>\n",
       "      <th>10</th>\n",
       "      <td>welfare_index</td>\n",
       "      <td>655.428377</td>\n",
       "      <td>659.579100</td>\n",
       "      <td>-4.150723</td>\n",
       "      <td>0.001532</td>\n",
       "    </tr>\n",
       "  </tbody>\n",
       "</table>\n",
       "</div>"
      ],
      "text/plain": [
       "    Variable name  Average value (Treatment villages)  \\\n",
       "13            age                           10.716991   \n",
       "7        dist_cap                          150.829074   \n",
       "2        dist_sec                            2.453122   \n",
       "5           fam_n                            7.281327   \n",
       "4             grc                            3.531599   \n",
       "12         hohage                           43.648828   \n",
       "8          hohedu                            2.663139   \n",
       "11         hohsex                            0.924656   \n",
       "9          hohwag                          544.339544   \n",
       "1           indig                            0.325986   \n",
       "6        min_dist                          107.152915   \n",
       "3              sc                            0.822697   \n",
       "0             sex                            0.519317   \n",
       "10  welfare_index                          655.428377   \n",
       "\n",
       "    Average value (Control villages)  Difference (Treat - Control)   p-value  \n",
       "13                         10.742023                     -0.025032  0.478363  \n",
       "7                         153.769730                     -2.940656  0.001146  \n",
       "2                           2.507662                     -0.054540  0.042663  \n",
       "5                           7.302469                     -0.021142  0.428967  \n",
       "4                           3.543050                     -0.011450  0.689523  \n",
       "12                         44.276918                     -0.628090  0.000002  \n",
       "8                           2.590348                      0.072791  0.010382  \n",
       "11                          0.922947                      0.001709  0.572125  \n",
       "9                         573.163558                    -28.824015  0.000329  \n",
       "1                           0.332207                     -0.006222  0.245902  \n",
       "6                         103.237854                      3.915060  0.000000  \n",
       "3                           0.815186                      0.007511  0.096461  \n",
       "0                           0.505052                      0.014265  0.012207  \n",
       "10                        659.579100                     -4.150723  0.001532  "
      ]
     },
     "execution_count": 4,
     "metadata": {},
     "output_type": "execute_result"
    }
   ],
   "source": [
    "# Show the difference in table\n",
    "# Initialize a list to store results\n",
    "results = []\n",
    "\n",
    "# Perform T-tests for each variable\n",
    "for var in variables:\n",
    "    base_treatment_mean = base_treatment[var].mean()\n",
    "    base_control_mean = base_control[var].mean()\n",
    "    diff = base_treatment_mean - base_control_mean\n",
    "    \n",
    "    # Perform T-test and obtain p-value\n",
    "    t_stat, p_value = ttest_ind(base_treatment[var].dropna(), base_control[var].dropna(), equal_var=False)\n",
    "    \n",
    "    # Append results\n",
    "    results.append([var, base_treatment_mean, base_control_mean, diff, p_value])\n",
    "\n",
    "# Convert results to DataFrame\n",
    "results_df = pd.DataFrame(results, columns=['Variable name', 'Average value (Treatment villages)', 'Average value (Control villages)', 'Difference (Treat - Control)', 'p-value'])\n",
    "\n",
    "# Sort results by variable name\n",
    "results_df.sort_values('Variable name', inplace=True)\n",
    "\n",
    "# Display the results\n",
    "results_df.round(6)"
   ]
  },
  {
   "cell_type": "markdown",
   "metadata": {},
   "source": [
    "#### Note\n",
    "\n",
    " * According to the resilt of t-test, not all the variables are statistically significant. If there is statistically significant different between treatment and control groups, the p-value should be less 0.05. Based on the rule, only dist_cap, dist_sec, hohage, hohedu, hohwag, min_dist, sc, sex and welfare_index are statistically significant.\n",
    "\n",
    " * The differences at baseline is to ensure the treatment and control villages are equivalent at the baseline. However, since there could be statistically significant differences between these two groups, we can't use single difference between treatment and control, or pre-post comparison that require 0 difference at baseline.\n",
    "\n",
    " * We need to choose the method and make sure the randomization in the experiment design that allows us to assume the difference in the treatment and control groups at baseline"
   ]
  },
  {
   "cell_type": "markdown",
   "metadata": {},
   "source": [
    "### 1.4 Graphical exploration, part 1\n",
    "\n",
    "Visualize the distribution of village enrollment rates **among poor households in treated villages**, before and after treatment. Specifically, for each village, calculate the average rate of enrollment of poor households in treated villages in 1997, then compute the average rate of enrollment of poor households in treated villages in 1998. Create two separate histograms showing the distribution of these average enrollments rates, one histogram for 1997 and one histogram for 1998. On each histogram, draw a vertical line that intersects the x-axis at the average value (across all households). Does there appear to be a difference? Is this difference statistically significant?"
   ]
  },
  {
   "cell_type": "code",
   "execution_count": 5,
   "metadata": {
    "jupyter": {
     "outputs_hidden": true
    }
   },
   "outputs": [
    {
     "data": {
      "image/png": "[encoded data removed]",
      "text/plain": [
       "<Figure size 1200x500 with 2 Axes>"
      ]
     },
     "metadata": {},
     "output_type": "display_data"
    },
    {
     "name": "stdout",
     "output_type": "stream",
     "text": [
      "T-statistic: -3.2234841005787582, P-value: 0.0013973920121984071\n",
      "0.015696793203423653\n"
     ]
    }
   ],
   "source": [
    "import matplotlib.pyplot as plt\n",
    "from scipy.stats import ttest_rel\n",
    "\n",
    "# Filter for treated villages and poor households\n",
    "treatment = df[(df.progresa == 'basal') & (df.poor == 'pobre')]\n",
    "\n",
    "# Calculate average enrollment rates by village and year\n",
    "avg_treatment_enroll = treatment.groupby(['village', 'year'])['sc'].mean().reset_index()\n",
    "\n",
    "# Separate the years for comparison\n",
    "avg_treatment_enroll_base = avg_treatment_enroll[avg_treatment_enroll.year == 97]['sc']\n",
    "avg_treatment_enroll_end = avg_treatment_enroll[avg_treatment_enroll.year == 98]['sc']\n",
    "\n",
    "# Plot histograms\n",
    "plt.figure(figsize=(12, 5))\n",
    "\n",
    "# 1997 Enrollment Rates\n",
    "plt.subplot(1, 2, 1)\n",
    "plt.hist(avg_treatment_enroll_base, bins=20, alpha=0.7, label='1997')\n",
    "plt.axvline(avg_treatment_enroll_base.mean(), color='r', linestyle='dashed', linewidth=2)\n",
    "plt.title('1997 Enrollment Rates')\n",
    "plt.xlabel('Enrollment Rate')\n",
    "plt.ylabel('Number of Villages')\n",
    "plt.legend()\n",
    "\n",
    "# 1998 Enrollment Rates\n",
    "plt.subplot(1, 2, 2)\n",
    "plt.hist(avg_treatment_enroll_end, bins=20, alpha=0.7, label='1998', color='orange')\n",
    "plt.axvline(avg_treatment_enroll_end.mean(), color='r', linestyle='dashed', linewidth=2)\n",
    "plt.title('1998 Enrollment Rates')\n",
    "plt.xlabel('Enrollment Rate')\n",
    "plt.ylabel('Number of Villages')\n",
    "plt.legend()\n",
    "\n",
    "plt.tight_layout()\n",
    "plt.show()\n",
    "\n",
    "# Statistical significance\n",
    "t_stat, p_value = ttest_rel(avg_treatment_enroll_base, avg_treatment_enroll_end)\n",
    "print(f\"T-statistic: {t_stat}, P-value: {p_value}\")\n",
    "print(avg_treatment_enroll_end.mean() - avg_treatment_enroll_base.mean())"
   ]
  },
  {
   "cell_type": "markdown",
   "metadata": {},
   "source": [
    "After the intervention, the enrollment rate increased and the p-value is less than 0.05, which shows there is a statistically significant difference."
   ]
  },
  {
   "cell_type": "markdown",
   "metadata": {},
   "source": [
    "### 1.5 Graphical exploration, part 2\n",
    "\n",
    "Repeat the above exercise for poor households in **control villages**, before and after treatment. Do you observe a difference in enrollment in control villages between 1997 and 1998? How does what you observe here affect how you might approach measuring the impact of PROGRESA?"
   ]
  },
  {
   "cell_type": "code",
   "execution_count": 6,
   "metadata": {
    "jupyter": {
     "outputs_hidden": true
    }
   },
   "outputs": [
    {
     "data": {
      "image/png": "[encoded data removed]",
      "text/plain": [
       "<Figure size 1200x500 with 2 Axes>"
      ]
     },
     "metadata": {},
     "output_type": "display_data"
    },
    {
     "name": "stdout",
     "output_type": "stream",
     "text": [
      "T-statistic: 1.355547718836688, P-value: 0.17690463958911543\n",
      "-0.007591730456275592\n"
     ]
    }
   ],
   "source": [
    "# Filter for treated villages and poor households\n",
    "control = df[(df.progresa == '0') & (df.poor == 'pobre')]\n",
    "\n",
    "# Calculate average enrollment rates by village and year\n",
    "avg_control_enroll = control.groupby(['village', 'year'])['sc'].mean().reset_index()\n",
    "\n",
    "# Separate the years for comparison\n",
    "avg_control_enroll_base = avg_control_enroll[avg_control_enroll.year == 97]['sc']\n",
    "avg_control_enroll_end = avg_control_enroll[avg_control_enroll.year == 98]['sc']\n",
    "\n",
    "# Plot histograms\n",
    "plt.figure(figsize=(12, 5))\n",
    "\n",
    "# 1997 Enrollment Rates\n",
    "plt.subplot(1, 2, 1)\n",
    "plt.hist(avg_control_enroll_base, bins=20, alpha=0.7, label='1997')\n",
    "plt.axvline(avg_control_enroll_base.mean(), color='r', linestyle='dashed', linewidth=2)\n",
    "plt.title('1997 Enrollment Rates')\n",
    "plt.xlabel('Enrollment Rate')\n",
    "plt.ylabel('Number of Villages')\n",
    "plt.legend()\n",
    "\n",
    "# 1998 Enrollment Rates\n",
    "plt.subplot(1, 2, 2)\n",
    "plt.hist(avg_control_enroll_end, bins=20, alpha=0.7, label='1998', color='orange')\n",
    "plt.axvline(avg_control_enroll_end.mean(), color='r', linestyle='dashed', linewidth=2)\n",
    "plt.title('1998 Enrollment Rates')\n",
    "plt.xlabel('Enrollment Rate')\n",
    "plt.ylabel('Number of Villages')\n",
    "plt.legend()\n",
    "\n",
    "plt.tight_layout()\n",
    "plt.show()\n",
    "\n",
    "# Statistical significance\n",
    "t_stat, p_value = ttest_rel(avg_control_enroll_base, avg_control_enroll_end)\n",
    "print(f\"T-statistic: {t_stat}, P-value: {p_value}\")\n",
    "print(avg_control_enroll_end.mean() - avg_control_enroll_base.mean())"
   ]
  },
  {
   "cell_type": "markdown",
   "metadata": {},
   "source": [
    "The enrollment rate decreases by 0.007591730456275592 and the p-value is more than 0.05, which shows there isn't a statistically significant difference in the controlled villages."
   ]
  },
  {
   "cell_type": "markdown",
   "metadata": {},
   "source": [
    "## Part 2: Simple Difference\n",
    "\n",
    "My goal is to estimate the causal impact of the PROGRESA program on the social and economic outcomes of individuals in Mexico. I will focus on the impact of the program on school enrollment rates among the poor (those with poor=='pobre'), since only the poor were eligible to receive PROGRESA assistance, and since a primary objective of the program was to increase school enrollment.\n",
    "\n",
    "### Simple differences 1: T-test\n",
    "\n",
    "Let's begin by estimating the impact of Progresa using \"simple differences.\"\n",
    "Simple difference is a very straight forward approach. We simple going to compare the outcomes of treatment and control group, or pre and post periods. This method is simple and easy to understand, but requires the strong assumption to generate unbiased estimate. Its underlying assumption is \"The counterfactual assumption is that, in the absence of treatment, the average school enrollment in the treatment group and the average school enrollment in the control groups would have been the same.\" As we already saw there could be a selection bias between treatment and control group, so we need to keep in mind that this method will lead to biased estimation."
   ]
  },
  {
   "cell_type": "markdown",
   "metadata": {},
   "source": [
    "First, I calculate the average enrollment rate among **poor** households in the Treatment villages and the average enrollment rate among **poor** households in the control villages in 1998 (after treatment). Then, I use a t-test to determine if this difference is statistically significant."
   ]
  },
  {
   "cell_type": "code",
   "execution_count": 7,
   "metadata": {
    "jupyter": {
     "outputs_hidden": true
    }
   },
   "outputs": [
    {
     "name": "stdout",
     "output_type": "stream",
     "text": [
      "Average enrollment rate in treatment villages: 0.8464791213954308\n",
      "Average enrollment rate in control villages: 0.807636956730308\n",
      "Difference in average enrollment rates: 0.0388421646651228\n",
      "T-statistic: 8.358720567418374, P-value: 6.636344447378102e-17\n"
     ]
    }
   ],
   "source": [
    "# Filter for 1998 and poor households\n",
    "df_end_poor = df[(df.year == 98) & (df.poor == 'pobre')]\n",
    "\n",
    "# Separate into treatment and control groups\n",
    "treatment_end = df_end_poor[df_end_poor.progresa == 'basal']\n",
    "control_end = df_end_poor[df_end_poor.progresa != 'basal']\n",
    "\n",
    "# Calculate average enrollment rates\n",
    "avg_treatment_enroll_end = treatment_end['sc'].mean()\n",
    "avg_control_enroll_end = control_end['sc'].mean()\n",
    "\n",
    "# Perform T-test\n",
    "t_stat, p_value = ttest_ind(treatment_end['sc'], control_end['sc'], nan_policy='omit')\n",
    "\n",
    "print(f\"Average enrollment rate in treatment villages: {avg_treatment_enroll_end}\")\n",
    "print(f\"Average enrollment rate in control villages: {avg_control_enroll_end}\")\n",
    "print(f\"Difference in average enrollment rates: {avg_treatment_enroll_end - avg_control_enroll_end}\")\n",
    "print(f\"T-statistic: {t_stat}, P-value: {p_value}\")"
   ]
  },
  {
   "cell_type": "markdown",
   "metadata": {},
   "source": [
    "#### Note\n",
    "\n",
    " * The p-value is nearly 0, way below 0.05, which means that the difference is statistically significant.\n",
    "\n",
    " * The difference of the average enrollment rate between treatment and control groups is 3.88%, indicating that Progresa is having a causal impact to the enrollment on the treatment villages."
   ]
  },
  {
   "cell_type": "markdown",
   "metadata": {},
   "source": [
    "### Simple differences 2: Regression\n",
    "\n",
    "Now, let's estimate the effects of Progresa on enrollment using a regression model, by regressing the 1998 enrollment rates of the poor on treatment assignment."
   ]
  },
  {
   "cell_type": "code",
   "execution_count": 8,
   "metadata": {
    "jupyter": {
     "outputs_hidden": true
    }
   },
   "outputs": [
    {
     "name": "stderr",
     "output_type": "stream",
     "text": [
      "/Users/kaiting/Library/Python/3.7/lib/python/site-packages/ipykernel_launcher.py:3: SettingWithCopyWarning: \n",
      "A value is trying to be set on a copy of a slice from a DataFrame.\n",
      "Try using .loc[row_indexer,col_indexer] = value instead\n",
      "\n",
      "See the caveats in the documentation: https://pandas.pydata.org/pandas-docs/stable/user_guide/indexing.html#returning-a-view-versus-a-copy\n",
      "  This is separate from the ipykernel package so we can avoid doing imports until\n"
     ]
    },
    {
     "data": {
      "text/html": [
       "<table class=\"simpletable\">\n",
       "<caption>OLS Regression Results</caption>\n",
       "<tr>\n",
       "  <th>Dep. Variable:</th>           <td>sc</td>        <th>  R-squared:         </th> <td>   0.267</td> \n",
       "</tr>\n",
       "<tr>\n",
       "  <th>Model:</th>                   <td>OLS</td>       <th>  Adj. R-squared:    </th> <td>   0.267</td> \n",
       "</tr>\n",
       "<tr>\n",
       "  <th>Method:</th>             <td>Least Squares</td>  <th>  F-statistic:       </th> <td>   1419.</td> \n",
       "</tr>\n",
       "<tr>\n",
       "  <th>Date:</th>             <td>Sun, 14 Apr 2024</td> <th>  Prob (F-statistic):</th>  <td>  0.00</td>  \n",
       "</tr>\n",
       "<tr>\n",
       "  <th>Time:</th>                 <td>01:54:19</td>     <th>  Log-Likelihood:    </th> <td> -7639.4</td> \n",
       "</tr>\n",
       "<tr>\n",
       "  <th>No. Observations:</th>      <td> 27267</td>      <th>  AIC:               </th> <td>1.529e+04</td>\n",
       "</tr>\n",
       "<tr>\n",
       "  <th>Df Residuals:</th>          <td> 27259</td>      <th>  BIC:               </th> <td>1.536e+04</td>\n",
       "</tr>\n",
       "<tr>\n",
       "  <th>Df Model:</th>              <td>     7</td>      <th>                     </th>     <td> </td>    \n",
       "</tr>\n",
       "<tr>\n",
       "  <th>Covariance Type:</th>      <td>nonrobust</td>    <th>                     </th>     <td> </td>    \n",
       "</tr>\n",
       "</table>\n",
       "<table class=\"simpletable\">\n",
       "<tr>\n",
       "        <td></td>           <th>coef</th>     <th>std err</th>      <th>t</th>      <th>P>|t|</th>  <th>[0.025</th>    <th>0.975]</th>  \n",
       "</tr>\n",
       "<tr>\n",
       "  <th>const</th>         <td>    1.5025</td> <td>    0.014</td> <td>  105.342</td> <td> 0.000</td> <td>    1.475</td> <td>    1.530</td>\n",
       "</tr>\n",
       "<tr>\n",
       "  <th>progresa</th>      <td>    0.0352</td> <td>    0.004</td> <td>    8.799</td> <td> 0.000</td> <td>    0.027</td> <td>    0.043</td>\n",
       "</tr>\n",
       "<tr>\n",
       "  <th>age</th>           <td>   -0.0655</td> <td>    0.001</td> <td>  -95.105</td> <td> 0.000</td> <td>   -0.067</td> <td>   -0.064</td>\n",
       "</tr>\n",
       "<tr>\n",
       "  <th>dist_sec</th>      <td>   -0.0117</td> <td>    0.001</td> <td>  -13.361</td> <td> 0.000</td> <td>   -0.013</td> <td>   -0.010</td>\n",
       "</tr>\n",
       "<tr>\n",
       "  <th>sex</th>           <td>    0.0310</td> <td>    0.004</td> <td>    7.977</td> <td> 0.000</td> <td>    0.023</td> <td>    0.039</td>\n",
       "</tr>\n",
       "<tr>\n",
       "  <th>hohedu</th>        <td>    0.0085</td> <td>    0.001</td> <td>   10.951</td> <td> 0.000</td> <td>    0.007</td> <td>    0.010</td>\n",
       "</tr>\n",
       "<tr>\n",
       "  <th>welfare_index</th> <td> 3.227e-05</td> <td> 1.72e-05</td> <td>    1.872</td> <td> 0.061</td> <td>-1.52e-06</td> <td> 6.61e-05</td>\n",
       "</tr>\n",
       "<tr>\n",
       "  <th>indig</th>         <td>    0.0468</td> <td>    0.004</td> <td>   11.283</td> <td> 0.000</td> <td>    0.039</td> <td>    0.055</td>\n",
       "</tr>\n",
       "</table>\n",
       "<table class=\"simpletable\">\n",
       "<tr>\n",
       "  <th>Omnibus:</th>       <td>2993.090</td> <th>  Durbin-Watson:     </th> <td>   1.718</td>\n",
       "</tr>\n",
       "<tr>\n",
       "  <th>Prob(Omnibus):</th>  <td> 0.000</td>  <th>  Jarque-Bera (JB):  </th> <td>4083.947</td>\n",
       "</tr>\n",
       "<tr>\n",
       "  <th>Skew:</th>           <td>-0.940</td>  <th>  Prob(JB):          </th> <td>    0.00</td>\n",
       "</tr>\n",
       "<tr>\n",
       "  <th>Kurtosis:</th>       <td> 3.248</td>  <th>  Cond. No.          </th> <td>4.90e+03</td>\n",
       "</tr>\n",
       "</table><br/><br/>Notes:<br/>[1] Standard Errors assume that the covariance matrix of the errors is correctly specified.<br/>[2] The condition number is large, 4.9e+03. This might indicate that there are<br/>strong multicollinearity or other numerical problems."
      ],
      "text/plain": [
       "<class 'statsmodels.iolib.summary.Summary'>\n",
       "\"\"\"\n",
       "                            OLS Regression Results                            \n",
       "==============================================================================\n",
       "Dep. Variable:                     sc   R-squared:                       0.267\n",
       "Model:                            OLS   Adj. R-squared:                  0.267\n",
       "Method:                 Least Squares   F-statistic:                     1419.\n",
       "Date:                Sun, 14 Apr 2024   Prob (F-statistic):               0.00\n",
       "Time:                        01:54:19   Log-Likelihood:                -7639.4\n",
       "No. Observations:               27267   AIC:                         1.529e+04\n",
       "Df Residuals:                   27259   BIC:                         1.536e+04\n",
       "Df Model:                           7                                         \n",
       "Covariance Type:            nonrobust                                         \n",
       "=================================================================================\n",
       "                    coef    std err          t      P>|t|      [0.025      0.975]\n",
       "---------------------------------------------------------------------------------\n",
       "const             1.5025      0.014    105.342      0.000       1.475       1.530\n",
       "progresa          0.0352      0.004      8.799      0.000       0.027       0.043\n",
       "age              -0.0655      0.001    -95.105      0.000      -0.067      -0.064\n",
       "dist_sec         -0.0117      0.001    -13.361      0.000      -0.013      -0.010\n",
       "sex               0.0310      0.004      7.977      0.000       0.023       0.039\n",
       "hohedu            0.0085      0.001     10.951      0.000       0.007       0.010\n",
       "welfare_index  3.227e-05   1.72e-05      1.872      0.061   -1.52e-06    6.61e-05\n",
       "indig             0.0468      0.004     11.283      0.000       0.039       0.055\n",
       "==============================================================================\n",
       "Omnibus:                     2993.090   Durbin-Watson:                   1.718\n",
       "Prob(Omnibus):                  0.000   Jarque-Bera (JB):             4083.947\n",
       "Skew:                          -0.940   Prob(JB):                         0.00\n",
       "Kurtosis:                       3.248   Cond. No.                     4.90e+03\n",
       "==============================================================================\n",
       "\n",
       "Notes:\n",
       "[1] Standard Errors assume that the covariance matrix of the errors is correctly specified.\n",
       "[2] The condition number is large, 4.9e+03. This might indicate that there are\n",
       "strong multicollinearity or other numerical problems.\n",
       "\"\"\""
      ]
     },
     "execution_count": 8,
     "metadata": {},
     "output_type": "execute_result"
    }
   ],
   "source": [
    "# Data for regression\n",
    "X = df_end_poor[['progresa', 'age', 'dist_sec', 'sex', 'hohedu', 'welfare_index', 'indig']]\n",
    "X['progresa'] = X['progresa'].apply(lambda x: 1 if x == 'basal' else 0)  # Convert treatment to binary\n",
    "X = sm.add_constant(X)  # Add a constant for the intercept term\n",
    "y = df_end_poor['sc']  # Enrollment rate\n",
    "\n",
    "# Fit the multiple regression model\n",
    "model = sm.OLS(y, X, missing='drop').fit()  # OLS regression, dropping missing values\n",
    "\n",
    "# Print the summary of the regression model\n",
    "model.summary()"
   ]
  },
  {
   "cell_type": "markdown",
   "metadata": {},
   "source": [
    "#### Note\n",
    "\n",
    "* The enrollment rate would increase by 3.5% instead if the household receives Progresa.\n",
    "\n",
    "* The p-value is very small (less than 0.05). Since the treatment effect remains statistically significant, we can reject the null hypothesis and states that the treatment effect is statistically significant."
   ]
  },
  {
   "cell_type": "markdown",
   "metadata": {},
   "source": [
    "## Part 3: Difference-in-Difference\n",
    "\n",
    "Thus far, we have computed the effects of Progresa by estimating the difference in 1998 enrollment rates across villages. An alternative approach would be to compute the treatment effect using a **difference-in-differences (DID)** framework. The DID method is an approach to estimate causal effects under the selection bias between treatment and control group.\n",
    "\n",
    "\n",
    "The underlying assumption of DID is, \"there exist parallel trends over time in enrollment rates between treated and control villages.\" So it doesn't require the assumption Simple difference requires, which is \"Treatment group and control group would have the same outcome in the absence of treatment.\" Although we need pre-period data to execute this method, this advantage on assumption is critical about impact evaluation in reality, especially because we already know there could be a selection bias between treatment and control group of this dataset."
   ]
  },
  {
   "cell_type": "markdown",
   "metadata": {},
   "source": [
    "\n",
    "### Difference-in-Difference 1: Tabular Analysis\n",
    "\n",
    "Let's begin by estimating the average treatment effects of the program for poor households using data from 1997 and 1998. Specifically, I calculate the difference (between 1997 and 1998) in enrollment rates among poor households in treated villages; then compute the difference (between 1997 and 1998) in enrollment rates among poor households in control villages."
   ]
  },
  {
   "cell_type": "code",
   "execution_count": 9,
   "metadata": {
    "jupyter": {
     "outputs_hidden": true
    }
   },
   "outputs": [
    {
     "name": "stdout",
     "output_type": "stream",
     "text": [
      "year            97        98      diff\n",
      "progresa                              \n",
      "0         0.815186  0.807637 -0.007549\n",
      "basal     0.822697  0.846479  0.023782\n",
      "\n",
      "Difference-in-Difference Estimate: 0.031331280319323085\n"
     ]
    }
   ],
   "source": [
    "# Filter for poor households\n",
    "df_poor = df[df.poor == 'pobre']\n",
    "\n",
    "# Create a pivot table for the average enrollment rates by year and treatment status\n",
    "pivot_table = df_poor.pivot_table(values='sc', index='progresa', columns='year', aggfunc='mean')\n",
    "\n",
    "# Calculate differences between years for control and treatment groups\n",
    "pivot_table['diff'] = pivot_table[98] - pivot_table[97]\n",
    "\n",
    "# Display the pivot table with differences\n",
    "print(pivot_table)\n",
    "\n",
    "# Calculate the Diff-in-Diff estimate\n",
    "did_estimate = pivot_table.at['basal', 'diff'] - pivot_table.at['0', 'diff']\n",
    "\n",
    "print(f\"\\nDifference-in-Difference Estimate: {did_estimate}\")"
   ]
  },
  {
   "cell_type": "markdown",
   "metadata": {},
   "source": [
    "#### Note\n",
    "\n",
    "* Focusing on poor, the difference-in-difference between 97 and 98 compare between the treatment and control villages is 0.0313, which is smaller than the result form simple difference. This helps us to assess whether treatment and control villages differed before Progresa.\n",
    "\n",
    "* The counterfactual assumption is that in the absence of the Progresa, the difference in enrollment rates over time would have been the same for both treatment and control groups."
   ]
  },
  {
   "cell_type": "markdown",
   "metadata": {},
   "source": [
    "### Difference-in-Difference 2: Regression\n",
    "\n",
    "Now I use a regression specification to estimate the average treatment effects of the program in a difference-in-differences, for the poor households."
   ]
  },
  {
   "cell_type": "code",
   "execution_count": 10,
   "metadata": {
    "jupyter": {
     "outputs_hidden": true
    }
   },
   "outputs": [],
   "source": [
    "# Create an interaction term for treatment and post\n",
    "df['treatment'] = df['progresa'].apply(lambda x: 1 if x == 'basal' else 0).dropna(axis= 0)\n",
    "df['post'] = df['year'].apply(lambda x: 1 if x == 98 else 0)\n",
    "df['treatment_post'] = df['treatment'] * df['post']"
   ]
  },
  {
   "cell_type": "code",
   "execution_count": 11,
   "metadata": {},
   "outputs": [
    {
     "data": {
      "text/html": [
       "<table class=\"simpletable\">\n",
       "<caption>OLS Regression Results</caption>\n",
       "<tr>\n",
       "  <th>Dep. Variable:</th>           <td>sc</td>        <th>  R-squared:         </th> <td>   0.279</td> \n",
       "</tr>\n",
       "<tr>\n",
       "  <th>Model:</th>                   <td>OLS</td>       <th>  Adj. R-squared:    </th> <td>   0.279</td> \n",
       "</tr>\n",
       "<tr>\n",
       "  <th>Method:</th>             <td>Least Squares</td>  <th>  F-statistic:       </th> <td>   2810.</td> \n",
       "</tr>\n",
       "<tr>\n",
       "  <th>Date:</th>             <td>Sun, 14 Apr 2024</td> <th>  Prob (F-statistic):</th>  <td>  0.00</td>  \n",
       "</tr>\n",
       "<tr>\n",
       "  <th>Time:</th>                 <td>01:54:19</td>     <th>  Log-Likelihood:    </th> <td> -16717.</td> \n",
       "</tr>\n",
       "<tr>\n",
       "  <th>No. Observations:</th>      <td> 58165</td>      <th>  AIC:               </th> <td>3.345e+04</td>\n",
       "</tr>\n",
       "<tr>\n",
       "  <th>Df Residuals:</th>          <td> 58156</td>      <th>  BIC:               </th> <td>3.353e+04</td>\n",
       "</tr>\n",
       "<tr>\n",
       "  <th>Df Model:</th>              <td>     8</td>      <th>                     </th>     <td> </td>    \n",
       "</tr>\n",
       "<tr>\n",
       "  <th>Covariance Type:</th>      <td>nonrobust</td>    <th>                     </th>     <td> </td>    \n",
       "</tr>\n",
       "</table>\n",
       "<table class=\"simpletable\">\n",
       "<tr>\n",
       "         <td></td>           <th>coef</th>     <th>std err</th>      <th>t</th>      <th>P>|t|</th>  <th>[0.025</th>    <th>0.975]</th>  \n",
       "</tr>\n",
       "<tr>\n",
       "  <th>Intercept</th>      <td>    1.4940</td> <td>    0.006</td> <td>  231.606</td> <td> 0.000</td> <td>    1.481</td> <td>    1.507</td>\n",
       "</tr>\n",
       "<tr>\n",
       "  <th>treatment</th>      <td>    0.0043</td> <td>    0.004</td> <td>    1.137</td> <td> 0.256</td> <td>   -0.003</td> <td>    0.012</td>\n",
       "</tr>\n",
       "<tr>\n",
       "  <th>post</th>           <td>    0.0270</td> <td>    0.004</td> <td>    6.204</td> <td> 0.000</td> <td>    0.018</td> <td>    0.036</td>\n",
       "</tr>\n",
       "<tr>\n",
       "  <th>treatment_post</th> <td>    0.0314</td> <td>    0.006</td> <td>    5.685</td> <td> 0.000</td> <td>    0.021</td> <td>    0.042</td>\n",
       "</tr>\n",
       "<tr>\n",
       "  <th>age</th>            <td>   -0.0655</td> <td>    0.000</td> <td> -144.433</td> <td> 0.000</td> <td>   -0.066</td> <td>   -0.065</td>\n",
       "</tr>\n",
       "<tr>\n",
       "  <th>dist_sec</th>       <td>   -0.0110</td> <td>    0.001</td> <td>  -17.788</td> <td> 0.000</td> <td>   -0.012</td> <td>   -0.010</td>\n",
       "</tr>\n",
       "<tr>\n",
       "  <th>sex</th>            <td>    0.0339</td> <td>    0.003</td> <td>   12.672</td> <td> 0.000</td> <td>    0.029</td> <td>    0.039</td>\n",
       "</tr>\n",
       "<tr>\n",
       "  <th>hohedu</th>         <td>    0.0076</td> <td>    0.001</td> <td>   14.110</td> <td> 0.000</td> <td>    0.007</td> <td>    0.009</td>\n",
       "</tr>\n",
       "<tr>\n",
       "  <th>indig</th>          <td>    0.0496</td> <td>    0.003</td> <td>   17.304</td> <td> 0.000</td> <td>    0.044</td> <td>    0.055</td>\n",
       "</tr>\n",
       "</table>\n",
       "<table class=\"simpletable\">\n",
       "<tr>\n",
       "  <th>Omnibus:</th>       <td>5523.777</td> <th>  Durbin-Watson:     </th> <td>   1.484</td>\n",
       "</tr>\n",
       "<tr>\n",
       "  <th>Prob(Omnibus):</th>  <td> 0.000</td>  <th>  Jarque-Bera (JB):  </th> <td>7269.312</td>\n",
       "</tr>\n",
       "<tr>\n",
       "  <th>Skew:</th>           <td>-0.864</td>  <th>  Prob(JB):          </th> <td>    0.00</td>\n",
       "</tr>\n",
       "<tr>\n",
       "  <th>Kurtosis:</th>       <td> 3.113</td>  <th>  Cond. No.          </th> <td>    70.8</td>\n",
       "</tr>\n",
       "</table><br/><br/>Notes:<br/>[1] Standard Errors assume that the covariance matrix of the errors is correctly specified."
      ],
      "text/plain": [
       "<class 'statsmodels.iolib.summary.Summary'>\n",
       "\"\"\"\n",
       "                            OLS Regression Results                            \n",
       "==============================================================================\n",
       "Dep. Variable:                     sc   R-squared:                       0.279\n",
       "Model:                            OLS   Adj. R-squared:                  0.279\n",
       "Method:                 Least Squares   F-statistic:                     2810.\n",
       "Date:                Sun, 14 Apr 2024   Prob (F-statistic):               0.00\n",
       "Time:                        01:54:19   Log-Likelihood:                -16717.\n",
       "No. Observations:               58165   AIC:                         3.345e+04\n",
       "Df Residuals:                   58156   BIC:                         3.353e+04\n",
       "Df Model:                           8                                         \n",
       "Covariance Type:            nonrobust                                         \n",
       "==================================================================================\n",
       "                     coef    std err          t      P>|t|      [0.025      0.975]\n",
       "----------------------------------------------------------------------------------\n",
       "Intercept          1.4940      0.006    231.606      0.000       1.481       1.507\n",
       "treatment          0.0043      0.004      1.137      0.256      -0.003       0.012\n",
       "post               0.0270      0.004      6.204      0.000       0.018       0.036\n",
       "treatment_post     0.0314      0.006      5.685      0.000       0.021       0.042\n",
       "age               -0.0655      0.000   -144.433      0.000      -0.066      -0.065\n",
       "dist_sec          -0.0110      0.001    -17.788      0.000      -0.012      -0.010\n",
       "sex                0.0339      0.003     12.672      0.000       0.029       0.039\n",
       "hohedu             0.0076      0.001     14.110      0.000       0.007       0.009\n",
       "indig              0.0496      0.003     17.304      0.000       0.044       0.055\n",
       "==============================================================================\n",
       "Omnibus:                     5523.777   Durbin-Watson:                   1.484\n",
       "Prob(Omnibus):                  0.000   Jarque-Bera (JB):             7269.312\n",
       "Skew:                          -0.864   Prob(JB):                         0.00\n",
       "Kurtosis:                       3.113   Cond. No.                         70.8\n",
       "==============================================================================\n",
       "\n",
       "Notes:\n",
       "[1] Standard Errors assume that the covariance matrix of the errors is correctly specified.\n",
       "\"\"\""
      ]
     },
     "execution_count": 11,
     "metadata": {},
     "output_type": "execute_result"
    }
   ],
   "source": [
    "# DiD regression with control variables\n",
    "model_ii = smf.ols('sc ~ treatment + post + treatment_post + age + dist_sec + sex + hohedu + indig', \n",
    "                   data=df[(df['poor'] == 'pobre')]).fit()\n",
    "model_ii.summary()"
   ]
  },
  {
   "cell_type": "markdown",
   "metadata": {},
   "source": [
    "#### Note\n",
    "\n",
    "* The coefficient is  0.0314, indicating that the treatment village has 3.14% increase in enrollment rate after receiving Progresa. In the meantime, the standard error is 0.006. The results imply that there aren't many confounders affecting the treatment effect.\n",
    "\n",
    "* Compared to the result of simple difference (3.5%), the DID estimator is smaller by 3.14%. This indicates the simple difference overestimated the causal effect of treatment possibly ue to the different ways these models account for other factors.\n"
   ]
  },
  {
   "cell_type": "markdown",
   "metadata": {},
   "source": [
    "## Summary\n",
    "\n",
    "* As long as standing with the assumption that the treatment group and control group have the same trend in the absence of the treatment, the double differences method can estimate an unbiased causal impact.\n",
    "\n",
    "* The level of enrollment rates of comparably poor children in Progresa treatment villages are higher than in non-Progresa control villages when the Progresa program began offering educational grants to poor mothers whose children were enrolled in school. It is statistically significantly different from zero within each distinguished group of children who had completed grades 1 through 6 in the previous year. These differences are often larger for girls than boys. \n",
    "\n",
    "* According to DID regression, we can claim that the Progresa had a causal impact on the enrollment rates of poor households, by 3.14%.\n",
    "\n",
    "* Other methods, such as simple differences, have some flaws in their underlying assumptions and thus overestimated the causal impact up 3.5%\n",
    "\n",
    "* The randomization of assignment to the Progresa program is tested by calculating the differences in enrollment by the poor in the treated and control villages before the program started. These pre-program differences were not significant, suggesting that the implementation of the random assignment was performed successfully. It is really important to be aware of the underlying assumption of the method we use, and the limitation of perfect random assignment."
   ]
  }
 ],
 "metadata": {
  "anaconda-cloud": {},
  "jupytext": {
   "formats": "ipynb,py:light"
  },
  "kernelspec": {
   "display_name": "Python 3 (ipykernel)",
   "language": "python",
   "name": "python3"
  },
  "language_info": {
   "codemirror_mode": {
    "name": "ipython",
    "version": 3
   },
   "file_extension": ".py",
   "mimetype": "text/x-python",
   "name": "python",
   "nbconvert_exporter": "python",
   "pygments_lexer": "ipython3",
   "version": "3.7.3"
  }
 },
 "nbformat": 4,
 "nbformat_minor": 4
}
